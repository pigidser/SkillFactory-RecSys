{
 "cells": [
  {
   "cell_type": "code",
   "execution_count": 1,
   "metadata": {},
   "outputs": [],
   "source": [
    "import numpy as np\n",
    "import pandas as pd\n",
    "import scipy.sparse as sparse\n",
    "from lightfm import LightFM\n",
    "from lightfm.cross_validation import random_train_test_split\n",
    "from lightfm.evaluation import precision_at_k, recall_at_k\n",
    "\n",
    "ratings = pd.read_csv('data/ratings.csv')\n",
    "books = pd.read_csv('data/books.csv')\n",
    "tags = pd.read_csv('data/tags.csv')\n",
    "tags_cleaned = pd.read_csv('data/tags_cleaned.xls')\n",
    "book_tags = pd.read_csv('data/book_tags.csv')"
   ]
  },
  {
   "cell_type": "code",
   "execution_count": 2,
   "metadata": {},
   "outputs": [
    {
     "output_type": "execute_result",
     "data": {
      "text/plain": "                           count unique  \\\nbook_id                    10000    NaN   \ngoodreads_book_id          10000    NaN   \nbest_book_id               10000    NaN   \nwork_id                    10000    NaN   \nbooks_count                10000    NaN   \nisbn                        9300   9300   \nisbn13                      9415    NaN   \nauthors                    10000   4664   \noriginal_publication_year   9979    NaN   \noriginal_title              9415   9274   \ntitle                      10000   9964   \nlanguage_code               8916     25   \naverage_rating             10000    NaN   \nratings_count              10000    NaN   \nwork_ratings_count         10000    NaN   \nwork_text_reviews_count    10000    NaN   \nratings_1                  10000    NaN   \nratings_2                  10000    NaN   \nratings_3                  10000    NaN   \nratings_4                  10000    NaN   \nratings_5                  10000    NaN   \nimage_url                  10000   6669   \nsmall_image_url            10000   6669   \n\n                                                                         top  \\\nbook_id                                                                  NaN   \ngoodreads_book_id                                                        NaN   \nbest_book_id                                                             NaN   \nwork_id                                                                  NaN   \nbooks_count                                                              NaN   \nisbn                                                               590431978   \nisbn13                                                                   NaN   \nauthors                                                         Stephen King   \noriginal_publication_year                                                NaN   \noriginal_title                                                                 \ntitle                                                         Selected Poems   \nlanguage_code                                                            eng   \naverage_rating                                                           NaN   \nratings_count                                                            NaN   \nwork_ratings_count                                                       NaN   \nwork_text_reviews_count                                                  NaN   \nratings_1                                                                NaN   \nratings_2                                                                NaN   \nratings_3                                                                NaN   \nratings_4                                                                NaN   \nratings_5                                                                NaN   \nimage_url                  https://s.gr-assets.com/assets/nophoto/book/11...   \nsmall_image_url            https://s.gr-assets.com/assets/nophoto/book/50...   \n\n                           freq         mean          std         min  \\\nbook_id                     NaN       5000.5       2886.9           1   \ngoodreads_book_id           NaN   5.2647e+06  7.57546e+06           1   \nbest_book_id                NaN  5.47121e+06  7.82733e+06           1   \nwork_id                     NaN  8.64618e+06  1.17511e+07          87   \nbooks_count                 NaN      75.7127      170.471           1   \nisbn                          1          NaN          NaN         NaN   \nisbn13                      NaN  9.75504e+12  4.42862e+11  1.9517e+08   \nauthors                      60          NaN          NaN         NaN   \noriginal_publication_year   NaN      1981.99      152.577       -1750   \noriginal_title                5          NaN          NaN         NaN   \ntitle                         4          NaN          NaN         NaN   \nlanguage_code              6341          NaN          NaN         NaN   \naverage_rating              NaN      4.00219     0.254427        2.47   \nratings_count               NaN      54001.2       157370        2716   \nwork_ratings_count          NaN      59687.3       167804        5510   \nwork_text_reviews_count     NaN      2919.96      6124.38           3   \nratings_1                   NaN      1345.04      6635.63          11   \nratings_2                   NaN      3110.89      9717.12          30   \nratings_3                   NaN      11475.9      28546.4         323   \nratings_4                   NaN      19965.7      51447.4         750   \nratings_5                   NaN      23789.8      79768.9         754   \nimage_url                  3332          NaN          NaN         NaN   \nsmall_image_url            3332          NaN          NaN         NaN   \n\n                                   25%          50%          75%          max  \nbook_id                        2500.75       5000.5      7500.25        10000  \ngoodreads_book_id              46275.8       394966  9.38223e+06  3.32886e+07  \nbest_book_id                   47911.8       425124  9.63611e+06  3.55342e+07  \nwork_id                    1.00884e+06  2.71952e+06  1.45177e+07  5.63996e+07  \nbooks_count                         23           40           67         3455  \nisbn                               NaN          NaN          NaN          NaN  \nisbn13                     9.78032e+12  9.78045e+12  9.78083e+12  9.79001e+12  \nauthors                            NaN          NaN          NaN          NaN  \noriginal_publication_year         1990         2004         2011         2017  \noriginal_title                     NaN          NaN          NaN          NaN  \ntitle                              NaN          NaN          NaN          NaN  \nlanguage_code                      NaN          NaN          NaN          NaN  \naverage_rating                    3.85         4.02         4.18         4.82  \nratings_count                  13568.8      21155.5      41053.5  4.78065e+06  \nwork_ratings_count             15438.8      23832.5        45915  4.94236e+06  \nwork_text_reviews_count            694         1402      2744.25       155254  \nratings_1                          196          391          885       456191  \nratings_2                          656         1163      2353.25       436802  \nratings_3                         3112         4894         9287       793319  \nratings_4                      5405.75       8269.5      16023.5  1.48130e+06  \nratings_5                         5334         8836      17304.5  3.01154e+06  \nimage_url                          NaN          NaN          NaN          NaN  \nsmall_image_url                    NaN          NaN          NaN          NaN  ",
      "text/html": "<div>\n<style scoped>\n    .dataframe tbody tr th:only-of-type {\n        vertical-align: middle;\n    }\n\n    .dataframe tbody tr th {\n        vertical-align: top;\n    }\n\n    .dataframe thead th {\n        text-align: right;\n    }\n</style>\n<table border=\"1\" class=\"dataframe\">\n  <thead>\n    <tr style=\"text-align: right;\">\n      <th></th>\n      <th>count</th>\n      <th>unique</th>\n      <th>top</th>\n      <th>freq</th>\n      <th>mean</th>\n      <th>std</th>\n      <th>min</th>\n      <th>25%</th>\n      <th>50%</th>\n      <th>75%</th>\n      <th>max</th>\n    </tr>\n  </thead>\n  <tbody>\n    <tr>\n      <th>book_id</th>\n      <td>10000</td>\n      <td>NaN</td>\n      <td>NaN</td>\n      <td>NaN</td>\n      <td>5000.5</td>\n      <td>2886.9</td>\n      <td>1</td>\n      <td>2500.75</td>\n      <td>5000.5</td>\n      <td>7500.25</td>\n      <td>10000</td>\n    </tr>\n    <tr>\n      <th>goodreads_book_id</th>\n      <td>10000</td>\n      <td>NaN</td>\n      <td>NaN</td>\n      <td>NaN</td>\n      <td>5.2647e+06</td>\n      <td>7.57546e+06</td>\n      <td>1</td>\n      <td>46275.8</td>\n      <td>394966</td>\n      <td>9.38223e+06</td>\n      <td>3.32886e+07</td>\n    </tr>\n    <tr>\n      <th>best_book_id</th>\n      <td>10000</td>\n      <td>NaN</td>\n      <td>NaN</td>\n      <td>NaN</td>\n      <td>5.47121e+06</td>\n      <td>7.82733e+06</td>\n      <td>1</td>\n      <td>47911.8</td>\n      <td>425124</td>\n      <td>9.63611e+06</td>\n      <td>3.55342e+07</td>\n    </tr>\n    <tr>\n      <th>work_id</th>\n      <td>10000</td>\n      <td>NaN</td>\n      <td>NaN</td>\n      <td>NaN</td>\n      <td>8.64618e+06</td>\n      <td>1.17511e+07</td>\n      <td>87</td>\n      <td>1.00884e+06</td>\n      <td>2.71952e+06</td>\n      <td>1.45177e+07</td>\n      <td>5.63996e+07</td>\n    </tr>\n    <tr>\n      <th>books_count</th>\n      <td>10000</td>\n      <td>NaN</td>\n      <td>NaN</td>\n      <td>NaN</td>\n      <td>75.7127</td>\n      <td>170.471</td>\n      <td>1</td>\n      <td>23</td>\n      <td>40</td>\n      <td>67</td>\n      <td>3455</td>\n    </tr>\n    <tr>\n      <th>isbn</th>\n      <td>9300</td>\n      <td>9300</td>\n      <td>590431978</td>\n      <td>1</td>\n      <td>NaN</td>\n      <td>NaN</td>\n      <td>NaN</td>\n      <td>NaN</td>\n      <td>NaN</td>\n      <td>NaN</td>\n      <td>NaN</td>\n    </tr>\n    <tr>\n      <th>isbn13</th>\n      <td>9415</td>\n      <td>NaN</td>\n      <td>NaN</td>\n      <td>NaN</td>\n      <td>9.75504e+12</td>\n      <td>4.42862e+11</td>\n      <td>1.9517e+08</td>\n      <td>9.78032e+12</td>\n      <td>9.78045e+12</td>\n      <td>9.78083e+12</td>\n      <td>9.79001e+12</td>\n    </tr>\n    <tr>\n      <th>authors</th>\n      <td>10000</td>\n      <td>4664</td>\n      <td>Stephen King</td>\n      <td>60</td>\n      <td>NaN</td>\n      <td>NaN</td>\n      <td>NaN</td>\n      <td>NaN</td>\n      <td>NaN</td>\n      <td>NaN</td>\n      <td>NaN</td>\n    </tr>\n    <tr>\n      <th>original_publication_year</th>\n      <td>9979</td>\n      <td>NaN</td>\n      <td>NaN</td>\n      <td>NaN</td>\n      <td>1981.99</td>\n      <td>152.577</td>\n      <td>-1750</td>\n      <td>1990</td>\n      <td>2004</td>\n      <td>2011</td>\n      <td>2017</td>\n    </tr>\n    <tr>\n      <th>original_title</th>\n      <td>9415</td>\n      <td>9274</td>\n      <td></td>\n      <td>5</td>\n      <td>NaN</td>\n      <td>NaN</td>\n      <td>NaN</td>\n      <td>NaN</td>\n      <td>NaN</td>\n      <td>NaN</td>\n      <td>NaN</td>\n    </tr>\n    <tr>\n      <th>title</th>\n      <td>10000</td>\n      <td>9964</td>\n      <td>Selected Poems</td>\n      <td>4</td>\n      <td>NaN</td>\n      <td>NaN</td>\n      <td>NaN</td>\n      <td>NaN</td>\n      <td>NaN</td>\n      <td>NaN</td>\n      <td>NaN</td>\n    </tr>\n    <tr>\n      <th>language_code</th>\n      <td>8916</td>\n      <td>25</td>\n      <td>eng</td>\n      <td>6341</td>\n      <td>NaN</td>\n      <td>NaN</td>\n      <td>NaN</td>\n      <td>NaN</td>\n      <td>NaN</td>\n      <td>NaN</td>\n      <td>NaN</td>\n    </tr>\n    <tr>\n      <th>average_rating</th>\n      <td>10000</td>\n      <td>NaN</td>\n      <td>NaN</td>\n      <td>NaN</td>\n      <td>4.00219</td>\n      <td>0.254427</td>\n      <td>2.47</td>\n      <td>3.85</td>\n      <td>4.02</td>\n      <td>4.18</td>\n      <td>4.82</td>\n    </tr>\n    <tr>\n      <th>ratings_count</th>\n      <td>10000</td>\n      <td>NaN</td>\n      <td>NaN</td>\n      <td>NaN</td>\n      <td>54001.2</td>\n      <td>157370</td>\n      <td>2716</td>\n      <td>13568.8</td>\n      <td>21155.5</td>\n      <td>41053.5</td>\n      <td>4.78065e+06</td>\n    </tr>\n    <tr>\n      <th>work_ratings_count</th>\n      <td>10000</td>\n      <td>NaN</td>\n      <td>NaN</td>\n      <td>NaN</td>\n      <td>59687.3</td>\n      <td>167804</td>\n      <td>5510</td>\n      <td>15438.8</td>\n      <td>23832.5</td>\n      <td>45915</td>\n      <td>4.94236e+06</td>\n    </tr>\n    <tr>\n      <th>work_text_reviews_count</th>\n      <td>10000</td>\n      <td>NaN</td>\n      <td>NaN</td>\n      <td>NaN</td>\n      <td>2919.96</td>\n      <td>6124.38</td>\n      <td>3</td>\n      <td>694</td>\n      <td>1402</td>\n      <td>2744.25</td>\n      <td>155254</td>\n    </tr>\n    <tr>\n      <th>ratings_1</th>\n      <td>10000</td>\n      <td>NaN</td>\n      <td>NaN</td>\n      <td>NaN</td>\n      <td>1345.04</td>\n      <td>6635.63</td>\n      <td>11</td>\n      <td>196</td>\n      <td>391</td>\n      <td>885</td>\n      <td>456191</td>\n    </tr>\n    <tr>\n      <th>ratings_2</th>\n      <td>10000</td>\n      <td>NaN</td>\n      <td>NaN</td>\n      <td>NaN</td>\n      <td>3110.89</td>\n      <td>9717.12</td>\n      <td>30</td>\n      <td>656</td>\n      <td>1163</td>\n      <td>2353.25</td>\n      <td>436802</td>\n    </tr>\n    <tr>\n      <th>ratings_3</th>\n      <td>10000</td>\n      <td>NaN</td>\n      <td>NaN</td>\n      <td>NaN</td>\n      <td>11475.9</td>\n      <td>28546.4</td>\n      <td>323</td>\n      <td>3112</td>\n      <td>4894</td>\n      <td>9287</td>\n      <td>793319</td>\n    </tr>\n    <tr>\n      <th>ratings_4</th>\n      <td>10000</td>\n      <td>NaN</td>\n      <td>NaN</td>\n      <td>NaN</td>\n      <td>19965.7</td>\n      <td>51447.4</td>\n      <td>750</td>\n      <td>5405.75</td>\n      <td>8269.5</td>\n      <td>16023.5</td>\n      <td>1.48130e+06</td>\n    </tr>\n    <tr>\n      <th>ratings_5</th>\n      <td>10000</td>\n      <td>NaN</td>\n      <td>NaN</td>\n      <td>NaN</td>\n      <td>23789.8</td>\n      <td>79768.9</td>\n      <td>754</td>\n      <td>5334</td>\n      <td>8836</td>\n      <td>17304.5</td>\n      <td>3.01154e+06</td>\n    </tr>\n    <tr>\n      <th>image_url</th>\n      <td>10000</td>\n      <td>6669</td>\n      <td>https://s.gr-assets.com/assets/nophoto/book/11...</td>\n      <td>3332</td>\n      <td>NaN</td>\n      <td>NaN</td>\n      <td>NaN</td>\n      <td>NaN</td>\n      <td>NaN</td>\n      <td>NaN</td>\n      <td>NaN</td>\n    </tr>\n    <tr>\n      <th>small_image_url</th>\n      <td>10000</td>\n      <td>6669</td>\n      <td>https://s.gr-assets.com/assets/nophoto/book/50...</td>\n      <td>3332</td>\n      <td>NaN</td>\n      <td>NaN</td>\n      <td>NaN</td>\n      <td>NaN</td>\n      <td>NaN</td>\n      <td>NaN</td>\n      <td>NaN</td>\n    </tr>\n  </tbody>\n</table>\n</div>"
     },
     "metadata": {},
     "execution_count": 2
    }
   ],
   "source": [
    "books.describe(include='all').T"
   ]
  },
  {
   "cell_type": "code",
   "execution_count": 3,
   "metadata": {},
   "outputs": [
    {
     "output_type": "execute_result",
     "data": {
      "text/plain": "      book_id  goodreads_book_id  best_book_id   work_id  books_count  \\\n0           1            2767052       2767052   2792775          272   \n1           2                  3             3   4640799          491   \n2           3              41865         41865   3212258          226   \n3           4               2657          2657   3275794          487   \n4           5               4671          4671    245494         1356   \n...       ...                ...           ...       ...          ...   \n9995     9996            7130616       7130616   7392860           19   \n9996     9997             208324        208324   1084709           19   \n9997     9998              77431         77431   2393986           60   \n9998     9999            8565083       8565083  13433613            7   \n9999    10000               8914          8914     11817           31   \n\n            isbn        isbn13                      authors  \\\n0      439023483  9.780439e+12              Suzanne Collins   \n1      439554934  9.780440e+12  J.K. Rowling, Mary GrandPré   \n2      316015849  9.780316e+12              Stephenie Meyer   \n3       61120081  9.780061e+12                   Harper Lee   \n4      743273567  9.780743e+12          F. Scott Fitzgerald   \n...          ...           ...                          ...   \n9995   441019455  9.780441e+12                Ilona Andrews   \n9996  067973371X  9.780680e+12               Robert A. Caro   \n9997  039330762X  9.780393e+12              Patrick O'Brian   \n9998    61711527  9.780062e+12              Peggy Orenstein   \n9999   375700455  9.780376e+12                  John Keegan   \n\n      original_publication_year  \\\n0                        2008.0   \n1                        1997.0   \n2                        2005.0   \n3                        1960.0   \n4                        1925.0   \n...                         ...   \n9995                     2010.0   \n9996                     1990.0   \n9997                     1977.0   \n9998                     2011.0   \n9999                     1998.0   \n\n                                         original_title  ... ratings_count  \\\n0                                      The Hunger Games  ...       4780653   \n1              Harry Potter and the Philosopher's Stone  ...       4602479   \n2                                              Twilight  ...       3866839   \n3                                 To Kill a Mockingbird  ...       3198671   \n4                                      The Great Gatsby  ...       2683664   \n...                                                 ...  ...           ...   \n9995                                         Bayou Moon  ...         17204   \n9996                                   Means of Ascent   ...         12582   \n9997                              The Mauritius Command  ...          9421   \n9998  Cinderella Ate My Daughter: Dispatches from th...  ...         11279   \n9999                                The First World War  ...          9162   \n\n     work_ratings_count  work_text_reviews_count  ratings_1  ratings_2  \\\n0               4942365                   155254      66715     127936   \n1               4800065                    75867      75504     101676   \n2               3916824                    95009     456191     436802   \n3               3340896                    72586      60427     117415   \n4               2773745                    51992      86236     197621   \n...                 ...                      ...        ...        ...   \n9995              18856                     1180        105        575   \n9996              12952                      395        303        551   \n9997              10733                      374         11        111   \n9998              11994                     1988        275       1002   \n9999               9700                      364        117        345   \n\n      ratings_3  ratings_4  ratings_5  \\\n0        560092    1481305    2706317   \n1        455024    1156318    3011543   \n2        793319     875073    1355439   \n3        446835    1001952    1714267   \n4        606158     936012     947718   \n...         ...        ...        ...   \n9995       3538       7860       6778   \n9996       1737       3389       6972   \n9997       1191       4240       5180   \n9998       3765       4577       2375   \n9999       2031       4138       3069   \n\n                                              image_url  \\\n0     https://images.gr-assets.com/books/1447303603m...   \n1     https://images.gr-assets.com/books/1474154022m...   \n2     https://images.gr-assets.com/books/1361039443m...   \n3     https://images.gr-assets.com/books/1361975680m...   \n4     https://images.gr-assets.com/books/1490528560m...   \n...                                                 ...   \n9995  https://images.gr-assets.com/books/1307445460m...   \n9996  https://s.gr-assets.com/assets/nophoto/book/11...   \n9997  https://images.gr-assets.com/books/1455373531m...   \n9998  https://images.gr-assets.com/books/1279214118m...   \n9999  https://images.gr-assets.com/books/1403194704m...   \n\n                                        small_image_url  \n0     https://images.gr-assets.com/books/1447303603s...  \n1     https://images.gr-assets.com/books/1474154022s...  \n2     https://images.gr-assets.com/books/1361039443s...  \n3     https://images.gr-assets.com/books/1361975680s...  \n4     https://images.gr-assets.com/books/1490528560s...  \n...                                                 ...  \n9995  https://images.gr-assets.com/books/1307445460s...  \n9996  https://s.gr-assets.com/assets/nophoto/book/50...  \n9997  https://images.gr-assets.com/books/1455373531s...  \n9998  https://images.gr-assets.com/books/1279214118s...  \n9999  https://images.gr-assets.com/books/1403194704s...  \n\n[10000 rows x 23 columns]",
      "text/html": "<div>\n<style scoped>\n    .dataframe tbody tr th:only-of-type {\n        vertical-align: middle;\n    }\n\n    .dataframe tbody tr th {\n        vertical-align: top;\n    }\n\n    .dataframe thead th {\n        text-align: right;\n    }\n</style>\n<table border=\"1\" class=\"dataframe\">\n  <thead>\n    <tr style=\"text-align: right;\">\n      <th></th>\n      <th>book_id</th>\n      <th>goodreads_book_id</th>\n      <th>best_book_id</th>\n      <th>work_id</th>\n      <th>books_count</th>\n      <th>isbn</th>\n      <th>isbn13</th>\n      <th>authors</th>\n      <th>original_publication_year</th>\n      <th>original_title</th>\n      <th>...</th>\n      <th>ratings_count</th>\n      <th>work_ratings_count</th>\n      <th>work_text_reviews_count</th>\n      <th>ratings_1</th>\n      <th>ratings_2</th>\n      <th>ratings_3</th>\n      <th>ratings_4</th>\n      <th>ratings_5</th>\n      <th>image_url</th>\n      <th>small_image_url</th>\n    </tr>\n  </thead>\n  <tbody>\n    <tr>\n      <th>0</th>\n      <td>1</td>\n      <td>2767052</td>\n      <td>2767052</td>\n      <td>2792775</td>\n      <td>272</td>\n      <td>439023483</td>\n      <td>9.780439e+12</td>\n      <td>Suzanne Collins</td>\n      <td>2008.0</td>\n      <td>The Hunger Games</td>\n      <td>...</td>\n      <td>4780653</td>\n      <td>4942365</td>\n      <td>155254</td>\n      <td>66715</td>\n      <td>127936</td>\n      <td>560092</td>\n      <td>1481305</td>\n      <td>2706317</td>\n      <td>https://images.gr-assets.com/books/1447303603m...</td>\n      <td>https://images.gr-assets.com/books/1447303603s...</td>\n    </tr>\n    <tr>\n      <th>1</th>\n      <td>2</td>\n      <td>3</td>\n      <td>3</td>\n      <td>4640799</td>\n      <td>491</td>\n      <td>439554934</td>\n      <td>9.780440e+12</td>\n      <td>J.K. Rowling, Mary GrandPré</td>\n      <td>1997.0</td>\n      <td>Harry Potter and the Philosopher's Stone</td>\n      <td>...</td>\n      <td>4602479</td>\n      <td>4800065</td>\n      <td>75867</td>\n      <td>75504</td>\n      <td>101676</td>\n      <td>455024</td>\n      <td>1156318</td>\n      <td>3011543</td>\n      <td>https://images.gr-assets.com/books/1474154022m...</td>\n      <td>https://images.gr-assets.com/books/1474154022s...</td>\n    </tr>\n    <tr>\n      <th>2</th>\n      <td>3</td>\n      <td>41865</td>\n      <td>41865</td>\n      <td>3212258</td>\n      <td>226</td>\n      <td>316015849</td>\n      <td>9.780316e+12</td>\n      <td>Stephenie Meyer</td>\n      <td>2005.0</td>\n      <td>Twilight</td>\n      <td>...</td>\n      <td>3866839</td>\n      <td>3916824</td>\n      <td>95009</td>\n      <td>456191</td>\n      <td>436802</td>\n      <td>793319</td>\n      <td>875073</td>\n      <td>1355439</td>\n      <td>https://images.gr-assets.com/books/1361039443m...</td>\n      <td>https://images.gr-assets.com/books/1361039443s...</td>\n    </tr>\n    <tr>\n      <th>3</th>\n      <td>4</td>\n      <td>2657</td>\n      <td>2657</td>\n      <td>3275794</td>\n      <td>487</td>\n      <td>61120081</td>\n      <td>9.780061e+12</td>\n      <td>Harper Lee</td>\n      <td>1960.0</td>\n      <td>To Kill a Mockingbird</td>\n      <td>...</td>\n      <td>3198671</td>\n      <td>3340896</td>\n      <td>72586</td>\n      <td>60427</td>\n      <td>117415</td>\n      <td>446835</td>\n      <td>1001952</td>\n      <td>1714267</td>\n      <td>https://images.gr-assets.com/books/1361975680m...</td>\n      <td>https://images.gr-assets.com/books/1361975680s...</td>\n    </tr>\n    <tr>\n      <th>4</th>\n      <td>5</td>\n      <td>4671</td>\n      <td>4671</td>\n      <td>245494</td>\n      <td>1356</td>\n      <td>743273567</td>\n      <td>9.780743e+12</td>\n      <td>F. Scott Fitzgerald</td>\n      <td>1925.0</td>\n      <td>The Great Gatsby</td>\n      <td>...</td>\n      <td>2683664</td>\n      <td>2773745</td>\n      <td>51992</td>\n      <td>86236</td>\n      <td>197621</td>\n      <td>606158</td>\n      <td>936012</td>\n      <td>947718</td>\n      <td>https://images.gr-assets.com/books/1490528560m...</td>\n      <td>https://images.gr-assets.com/books/1490528560s...</td>\n    </tr>\n    <tr>\n      <th>...</th>\n      <td>...</td>\n      <td>...</td>\n      <td>...</td>\n      <td>...</td>\n      <td>...</td>\n      <td>...</td>\n      <td>...</td>\n      <td>...</td>\n      <td>...</td>\n      <td>...</td>\n      <td>...</td>\n      <td>...</td>\n      <td>...</td>\n      <td>...</td>\n      <td>...</td>\n      <td>...</td>\n      <td>...</td>\n      <td>...</td>\n      <td>...</td>\n      <td>...</td>\n      <td>...</td>\n    </tr>\n    <tr>\n      <th>9995</th>\n      <td>9996</td>\n      <td>7130616</td>\n      <td>7130616</td>\n      <td>7392860</td>\n      <td>19</td>\n      <td>441019455</td>\n      <td>9.780441e+12</td>\n      <td>Ilona Andrews</td>\n      <td>2010.0</td>\n      <td>Bayou Moon</td>\n      <td>...</td>\n      <td>17204</td>\n      <td>18856</td>\n      <td>1180</td>\n      <td>105</td>\n      <td>575</td>\n      <td>3538</td>\n      <td>7860</td>\n      <td>6778</td>\n      <td>https://images.gr-assets.com/books/1307445460m...</td>\n      <td>https://images.gr-assets.com/books/1307445460s...</td>\n    </tr>\n    <tr>\n      <th>9996</th>\n      <td>9997</td>\n      <td>208324</td>\n      <td>208324</td>\n      <td>1084709</td>\n      <td>19</td>\n      <td>067973371X</td>\n      <td>9.780680e+12</td>\n      <td>Robert A. Caro</td>\n      <td>1990.0</td>\n      <td>Means of Ascent</td>\n      <td>...</td>\n      <td>12582</td>\n      <td>12952</td>\n      <td>395</td>\n      <td>303</td>\n      <td>551</td>\n      <td>1737</td>\n      <td>3389</td>\n      <td>6972</td>\n      <td>https://s.gr-assets.com/assets/nophoto/book/11...</td>\n      <td>https://s.gr-assets.com/assets/nophoto/book/50...</td>\n    </tr>\n    <tr>\n      <th>9997</th>\n      <td>9998</td>\n      <td>77431</td>\n      <td>77431</td>\n      <td>2393986</td>\n      <td>60</td>\n      <td>039330762X</td>\n      <td>9.780393e+12</td>\n      <td>Patrick O'Brian</td>\n      <td>1977.0</td>\n      <td>The Mauritius Command</td>\n      <td>...</td>\n      <td>9421</td>\n      <td>10733</td>\n      <td>374</td>\n      <td>11</td>\n      <td>111</td>\n      <td>1191</td>\n      <td>4240</td>\n      <td>5180</td>\n      <td>https://images.gr-assets.com/books/1455373531m...</td>\n      <td>https://images.gr-assets.com/books/1455373531s...</td>\n    </tr>\n    <tr>\n      <th>9998</th>\n      <td>9999</td>\n      <td>8565083</td>\n      <td>8565083</td>\n      <td>13433613</td>\n      <td>7</td>\n      <td>61711527</td>\n      <td>9.780062e+12</td>\n      <td>Peggy Orenstein</td>\n      <td>2011.0</td>\n      <td>Cinderella Ate My Daughter: Dispatches from th...</td>\n      <td>...</td>\n      <td>11279</td>\n      <td>11994</td>\n      <td>1988</td>\n      <td>275</td>\n      <td>1002</td>\n      <td>3765</td>\n      <td>4577</td>\n      <td>2375</td>\n      <td>https://images.gr-assets.com/books/1279214118m...</td>\n      <td>https://images.gr-assets.com/books/1279214118s...</td>\n    </tr>\n    <tr>\n      <th>9999</th>\n      <td>10000</td>\n      <td>8914</td>\n      <td>8914</td>\n      <td>11817</td>\n      <td>31</td>\n      <td>375700455</td>\n      <td>9.780376e+12</td>\n      <td>John Keegan</td>\n      <td>1998.0</td>\n      <td>The First World War</td>\n      <td>...</td>\n      <td>9162</td>\n      <td>9700</td>\n      <td>364</td>\n      <td>117</td>\n      <td>345</td>\n      <td>2031</td>\n      <td>4138</td>\n      <td>3069</td>\n      <td>https://images.gr-assets.com/books/1403194704m...</td>\n      <td>https://images.gr-assets.com/books/1403194704s...</td>\n    </tr>\n  </tbody>\n</table>\n<p>10000 rows × 23 columns</p>\n</div>"
     },
     "metadata": {},
     "execution_count": 3
    }
   ],
   "source": [
    "books\n",
    "# book_tags.tag_id.count\n",
    "# tags_cleaned\n",
    "# tags.tag_id.count"
   ]
  },
  {
   "cell_type": "code",
   "execution_count": 4,
   "metadata": {},
   "outputs": [
    {
     "output_type": "execute_result",
     "data": {
      "text/plain": "        goodreads_book_id  tag_id  count    id\n1                       1   11305  37174    27\n4                       1   33114  12716    27\n5                       1   11743   9954    27\n6                       1   14017   7169    27\n10                      1   27199   3857    27\n...                   ...     ...    ...   ...\n999877           33288638    9886     10  8892\n999879           33288638    3358     10  8892\n999880           33288638    1679     10  8892\n999889           33288638    1659      9  8892\n999890           33288638   29316      9  8892\n\n[300738 rows x 4 columns]",
      "text/html": "<div>\n<style scoped>\n    .dataframe tbody tr th:only-of-type {\n        vertical-align: middle;\n    }\n\n    .dataframe tbody tr th {\n        vertical-align: top;\n    }\n\n    .dataframe thead th {\n        text-align: right;\n    }\n</style>\n<table border=\"1\" class=\"dataframe\">\n  <thead>\n    <tr style=\"text-align: right;\">\n      <th></th>\n      <th>goodreads_book_id</th>\n      <th>tag_id</th>\n      <th>count</th>\n      <th>id</th>\n    </tr>\n  </thead>\n  <tbody>\n    <tr>\n      <th>1</th>\n      <td>1</td>\n      <td>11305</td>\n      <td>37174</td>\n      <td>27</td>\n    </tr>\n    <tr>\n      <th>4</th>\n      <td>1</td>\n      <td>33114</td>\n      <td>12716</td>\n      <td>27</td>\n    </tr>\n    <tr>\n      <th>5</th>\n      <td>1</td>\n      <td>11743</td>\n      <td>9954</td>\n      <td>27</td>\n    </tr>\n    <tr>\n      <th>6</th>\n      <td>1</td>\n      <td>14017</td>\n      <td>7169</td>\n      <td>27</td>\n    </tr>\n    <tr>\n      <th>10</th>\n      <td>1</td>\n      <td>27199</td>\n      <td>3857</td>\n      <td>27</td>\n    </tr>\n    <tr>\n      <th>...</th>\n      <td>...</td>\n      <td>...</td>\n      <td>...</td>\n      <td>...</td>\n    </tr>\n    <tr>\n      <th>999877</th>\n      <td>33288638</td>\n      <td>9886</td>\n      <td>10</td>\n      <td>8892</td>\n    </tr>\n    <tr>\n      <th>999879</th>\n      <td>33288638</td>\n      <td>3358</td>\n      <td>10</td>\n      <td>8892</td>\n    </tr>\n    <tr>\n      <th>999880</th>\n      <td>33288638</td>\n      <td>1679</td>\n      <td>10</td>\n      <td>8892</td>\n    </tr>\n    <tr>\n      <th>999889</th>\n      <td>33288638</td>\n      <td>1659</td>\n      <td>9</td>\n      <td>8892</td>\n    </tr>\n    <tr>\n      <th>999890</th>\n      <td>33288638</td>\n      <td>29316</td>\n      <td>9</td>\n      <td>8892</td>\n    </tr>\n  </tbody>\n</table>\n<p>300738 rows × 4 columns</p>\n</div>"
     },
     "metadata": {},
     "execution_count": 4
    }
   ],
   "source": [
    "mapper = dict(zip(books.goodreads_book_id, books.book_id))\n",
    "\n",
    "tags = pd.read_csv('data/tags_cleaned.xls')\n",
    "book_tags = book_tags[book_tags.tag_id.isin(tags.tag_id)]\n",
    "book_tags['id'] = book_tags.goodreads_book_id.apply(lambda x: mapper[x])\n",
    "book_tags"
   ]
  },
  {
   "cell_type": "code",
   "execution_count": 5,
   "metadata": {},
   "outputs": [],
   "source": [
    "ratings_coo = sparse.coo_matrix((ratings.rating,(ratings.user_id,ratings.book_id)))\n",
    "feature_ratings = sparse.coo_matrix(([1]*len(book_tags),(book_tags.id,book_tags.tag_id)))"
   ]
  },
  {
   "cell_type": "code",
   "execution_count": 6,
   "metadata": {},
   "outputs": [],
   "source": [
    "#число потоков нашего процессора\n",
    "NUM_THREADS = 8 \n",
    "\n",
    "#число параметров вектора \n",
    "NUM_COMPONENTS = 30 \n",
    "\n",
    "#число эпох обучения\n",
    "NUM_EPOCHS = 10 "
   ]
  },
  {
   "cell_type": "code",
   "execution_count": 7,
   "metadata": {},
   "outputs": [
    {
     "output_type": "stream",
     "name": "stdout",
     "text": "Epoch 0\nEpoch 1\nEpoch 2\nEpoch 3\nEpoch 4\nEpoch 5\nEpoch 6\nEpoch 7\nEpoch 8\nEpoch 9\n"
    }
   ],
   "source": [
    "#Создаём модель\n",
    "model = LightFM(learning_rate=0.05, loss='warp', no_components=NUM_COMPONENTS)\n",
    " \n",
    "#Разбиваем наш датасет на обучающую и тестовую выборки\n",
    "train,test = random_train_test_split(ratings_coo, test_percentage=0.2, random_state=None)\n",
    "\n",
    "#Обучаем модель\n",
    "model = model.fit(train, epochs=NUM_EPOCHS, num_threads=NUM_THREADS,item_features =feature_ratings,verbose=True)"
   ]
  },
  {
   "cell_type": "code",
   "execution_count": 8,
   "metadata": {},
   "outputs": [],
   "source": [
    "import pickle\n",
    "\n",
    "with open('savefile.pickle', 'wb') as fle:\n",
    "    pickle.dump(model, fle, protocol=pickle.HIGHEST_PROTOCOL)"
   ]
  },
  {
   "cell_type": "code",
   "execution_count": 9,
   "metadata": {},
   "outputs": [
    {
     "output_type": "stream",
     "name": "stdout",
     "text": "0.037623900663425476 0.08167303\n"
    }
   ],
   "source": [
    "#Тестируем нашу модель\n",
    "prec_score = precision_at_k(\n",
    "                     model,\n",
    "                     test,\n",
    "                     num_threads=NUM_THREADS,\n",
    "                     k=10,\n",
    "                     item_features=feature_ratings).mean()\n",
    " \n",
    "recall_at_k = recall_at_k(model,\n",
    "                     test,\n",
    "                     num_threads=NUM_THREADS,\n",
    "                     k=10,\n",
    "                     item_features=feature_ratings).mean()\n",
    "\n",
    "print(recall_at_k,prec_score)"
   ]
  },
  {
   "cell_type": "code",
   "execution_count": 10,
   "metadata": {},
   "outputs": [],
   "source": [
    "# Достаём эбмеддинги\n",
    "\n",
    "item_biases, item_embeddings = model.get_item_representations(features=feature_ratings)"
   ]
  },
  {
   "cell_type": "code",
   "execution_count": 14,
   "metadata": {},
   "outputs": [],
   "source": [
    "import nmslib\n",
    " \n",
    "#Создаём наш граф для поиска\n",
    "nms_idx = nmslib.init(method='hnsw', space='cosinesimil')\n",
    " \n",
    "#Начинаем добавлять наши книги в граф\n",
    "nms_idx.addDataPointBatch(item_embeddings)\n",
    "nms_idx.createIndex(print_progress=True)"
   ]
  },
  {
   "cell_type": "code",
   "execution_count": 15,
   "metadata": {},
   "outputs": [],
   "source": [
    "#Вспомогательная функция для поиска по графу\n",
    "def nearest_books_nms(book_id, index, n=10):\n",
    "    nn = index.knnQuery(item_embeddings[book_id], k=n)\n",
    "    return nn"
   ]
  },
  {
   "cell_type": "markdown",
   "metadata": {},
   "source": [
    "# Проверяем модель"
   ]
  },
  {
   "cell_type": "code",
   "execution_count": 16,
   "metadata": {},
   "outputs": [
    {
     "output_type": "execute_result",
     "data": {
      "text/plain": "      book_id  goodreads_book_id  best_book_id   work_id  books_count  \\\n12         13               5470          5470    153313          995   \n13         14               7613          7613   2207778          896   \n54         55               5129          5129   3204877          515   \n78         79               1381          1381   3356006         1703   \n845       846               5472          5472   2966408           51   \n902       903                667           667    287946          460   \n2141     2142               1375          1375   1474309          255   \n6154     6155             989313        989313  19248724            7   \n6767     6768             616828        616828   1785260           64   \n\n            isbn        isbn13  \\\n12     451524934  9.780452e+12   \n13     452284244  9.780452e+12   \n54      60929871  9.780061e+12   \n78     143039954  9.780143e+12   \n845    151010269  9.780151e+12   \n902    452281253  9.780452e+12   \n2141   147712556  9.780148e+12   \n6154  1593080212  9.781593e+12   \n6767   451526570  9.780452e+12   \n\n                                                authors  \\\n12              George Orwell, Erich Fromm, Celâl Üster   \n13                                        George Orwell   \n54                                        Aldous Huxley   \n78    Homer, Robert Fagles, E.V. Rieu, Frédéric Mugl...   \n845                 George Orwell, Christopher Hitchens   \n902                                            Ayn Rand   \n2141                 Homer, Robert Fagles, Bernard Knox   \n6154                    Joseph Conrad, A. Michael Matin   \n6767                                      Joseph Conrad   \n\n      original_publication_year              original_title  ...  \\\n12                       1949.0        Nineteen Eighty-Four  ...   \n13                       1945.0  Animal Farm: A Fairy Story  ...   \n54                       1932.0             Brave New World  ...   \n78                       -720.0                    Ὀδύσσεια  ...   \n845                      1950.0          Animal Farm & 1984  ...   \n902                      1938.0                      Anthem  ...   \n2141                     -762.0            Ἰλιάς ; Ὀδύσσεια  ...   \n6154                     1899.0                         NaN  ...   \n6767                     1910.0           Heart of Darkness  ...   \n\n     ratings_count work_ratings_count  work_text_reviews_count  ratings_1  \\\n12         1956832            2053394                    45518      41845   \n13         1881700            1982987                    35472      66854   \n54         1022601            1079135                    20095      26367   \n78          670326             710757                     8101      29703   \n845         116197             118761                     1293       1212   \n902          95620             106766                     7096       6095   \n2141         47825              51098                      537        916   \n6154         18873              19392                      192       1061   \n6767         13649              15143                      739       1110   \n\n      ratings_2  ratings_3  ratings_4  ratings_5  \\\n12        86425     324874     692021     908229   \n13       135147     433432     698642     648912   \n54        60328     219895     389379     383166   \n78        65629     183082     224120     208223   \n845        3276      16511      40583      57179   \n902       10982      27984      34074      27631   \n2141       2608      10439      17404      19731   \n6154       1793       4477       5759       6302   \n6767       1867       4127       4552       3487   \n\n                                              image_url  \\\n12    https://images.gr-assets.com/books/1348990566m...   \n13    https://images.gr-assets.com/books/1424037542m...   \n54    https://images.gr-assets.com/books/1487389574m...   \n78    https://images.gr-assets.com/books/1390173285m...   \n845   https://images.gr-assets.com/books/1327959366m...   \n902   https://s.gr-assets.com/assets/nophoto/book/11...   \n2141  https://s.gr-assets.com/assets/nophoto/book/11...   \n6154  https://images.gr-assets.com/books/1328851164m...   \n6767  https://s.gr-assets.com/assets/nophoto/book/11...   \n\n                                        small_image_url  \n12    https://images.gr-assets.com/books/1348990566s...  \n13    https://images.gr-assets.com/books/1424037542s...  \n54    https://images.gr-assets.com/books/1487389574s...  \n78    https://images.gr-assets.com/books/1390173285s...  \n845   https://images.gr-assets.com/books/1327959366s...  \n902   https://s.gr-assets.com/assets/nophoto/book/50...  \n2141  https://s.gr-assets.com/assets/nophoto/book/50...  \n6154  https://images.gr-assets.com/books/1328851164s...  \n6767  https://s.gr-assets.com/assets/nophoto/book/50...  \n\n[9 rows x 23 columns]",
      "text/html": "<div>\n<style scoped>\n    .dataframe tbody tr th:only-of-type {\n        vertical-align: middle;\n    }\n\n    .dataframe tbody tr th {\n        vertical-align: top;\n    }\n\n    .dataframe thead th {\n        text-align: right;\n    }\n</style>\n<table border=\"1\" class=\"dataframe\">\n  <thead>\n    <tr style=\"text-align: right;\">\n      <th></th>\n      <th>book_id</th>\n      <th>goodreads_book_id</th>\n      <th>best_book_id</th>\n      <th>work_id</th>\n      <th>books_count</th>\n      <th>isbn</th>\n      <th>isbn13</th>\n      <th>authors</th>\n      <th>original_publication_year</th>\n      <th>original_title</th>\n      <th>...</th>\n      <th>ratings_count</th>\n      <th>work_ratings_count</th>\n      <th>work_text_reviews_count</th>\n      <th>ratings_1</th>\n      <th>ratings_2</th>\n      <th>ratings_3</th>\n      <th>ratings_4</th>\n      <th>ratings_5</th>\n      <th>image_url</th>\n      <th>small_image_url</th>\n    </tr>\n  </thead>\n  <tbody>\n    <tr>\n      <th>12</th>\n      <td>13</td>\n      <td>5470</td>\n      <td>5470</td>\n      <td>153313</td>\n      <td>995</td>\n      <td>451524934</td>\n      <td>9.780452e+12</td>\n      <td>George Orwell, Erich Fromm, Celâl Üster</td>\n      <td>1949.0</td>\n      <td>Nineteen Eighty-Four</td>\n      <td>...</td>\n      <td>1956832</td>\n      <td>2053394</td>\n      <td>45518</td>\n      <td>41845</td>\n      <td>86425</td>\n      <td>324874</td>\n      <td>692021</td>\n      <td>908229</td>\n      <td>https://images.gr-assets.com/books/1348990566m...</td>\n      <td>https://images.gr-assets.com/books/1348990566s...</td>\n    </tr>\n    <tr>\n      <th>13</th>\n      <td>14</td>\n      <td>7613</td>\n      <td>7613</td>\n      <td>2207778</td>\n      <td>896</td>\n      <td>452284244</td>\n      <td>9.780452e+12</td>\n      <td>George Orwell</td>\n      <td>1945.0</td>\n      <td>Animal Farm: A Fairy Story</td>\n      <td>...</td>\n      <td>1881700</td>\n      <td>1982987</td>\n      <td>35472</td>\n      <td>66854</td>\n      <td>135147</td>\n      <td>433432</td>\n      <td>698642</td>\n      <td>648912</td>\n      <td>https://images.gr-assets.com/books/1424037542m...</td>\n      <td>https://images.gr-assets.com/books/1424037542s...</td>\n    </tr>\n    <tr>\n      <th>54</th>\n      <td>55</td>\n      <td>5129</td>\n      <td>5129</td>\n      <td>3204877</td>\n      <td>515</td>\n      <td>60929871</td>\n      <td>9.780061e+12</td>\n      <td>Aldous Huxley</td>\n      <td>1932.0</td>\n      <td>Brave New World</td>\n      <td>...</td>\n      <td>1022601</td>\n      <td>1079135</td>\n      <td>20095</td>\n      <td>26367</td>\n      <td>60328</td>\n      <td>219895</td>\n      <td>389379</td>\n      <td>383166</td>\n      <td>https://images.gr-assets.com/books/1487389574m...</td>\n      <td>https://images.gr-assets.com/books/1487389574s...</td>\n    </tr>\n    <tr>\n      <th>78</th>\n      <td>79</td>\n      <td>1381</td>\n      <td>1381</td>\n      <td>3356006</td>\n      <td>1703</td>\n      <td>143039954</td>\n      <td>9.780143e+12</td>\n      <td>Homer, Robert Fagles, E.V. Rieu, Frédéric Mugl...</td>\n      <td>-720.0</td>\n      <td>Ὀδύσσεια</td>\n      <td>...</td>\n      <td>670326</td>\n      <td>710757</td>\n      <td>8101</td>\n      <td>29703</td>\n      <td>65629</td>\n      <td>183082</td>\n      <td>224120</td>\n      <td>208223</td>\n      <td>https://images.gr-assets.com/books/1390173285m...</td>\n      <td>https://images.gr-assets.com/books/1390173285s...</td>\n    </tr>\n    <tr>\n      <th>845</th>\n      <td>846</td>\n      <td>5472</td>\n      <td>5472</td>\n      <td>2966408</td>\n      <td>51</td>\n      <td>151010269</td>\n      <td>9.780151e+12</td>\n      <td>George Orwell, Christopher Hitchens</td>\n      <td>1950.0</td>\n      <td>Animal Farm &amp; 1984</td>\n      <td>...</td>\n      <td>116197</td>\n      <td>118761</td>\n      <td>1293</td>\n      <td>1212</td>\n      <td>3276</td>\n      <td>16511</td>\n      <td>40583</td>\n      <td>57179</td>\n      <td>https://images.gr-assets.com/books/1327959366m...</td>\n      <td>https://images.gr-assets.com/books/1327959366s...</td>\n    </tr>\n    <tr>\n      <th>902</th>\n      <td>903</td>\n      <td>667</td>\n      <td>667</td>\n      <td>287946</td>\n      <td>460</td>\n      <td>452281253</td>\n      <td>9.780452e+12</td>\n      <td>Ayn Rand</td>\n      <td>1938.0</td>\n      <td>Anthem</td>\n      <td>...</td>\n      <td>95620</td>\n      <td>106766</td>\n      <td>7096</td>\n      <td>6095</td>\n      <td>10982</td>\n      <td>27984</td>\n      <td>34074</td>\n      <td>27631</td>\n      <td>https://s.gr-assets.com/assets/nophoto/book/11...</td>\n      <td>https://s.gr-assets.com/assets/nophoto/book/50...</td>\n    </tr>\n    <tr>\n      <th>2141</th>\n      <td>2142</td>\n      <td>1375</td>\n      <td>1375</td>\n      <td>1474309</td>\n      <td>255</td>\n      <td>147712556</td>\n      <td>9.780148e+12</td>\n      <td>Homer, Robert Fagles, Bernard Knox</td>\n      <td>-762.0</td>\n      <td>Ἰλιάς ; Ὀδύσσεια</td>\n      <td>...</td>\n      <td>47825</td>\n      <td>51098</td>\n      <td>537</td>\n      <td>916</td>\n      <td>2608</td>\n      <td>10439</td>\n      <td>17404</td>\n      <td>19731</td>\n      <td>https://s.gr-assets.com/assets/nophoto/book/11...</td>\n      <td>https://s.gr-assets.com/assets/nophoto/book/50...</td>\n    </tr>\n    <tr>\n      <th>6154</th>\n      <td>6155</td>\n      <td>989313</td>\n      <td>989313</td>\n      <td>19248724</td>\n      <td>7</td>\n      <td>1593080212</td>\n      <td>9.781593e+12</td>\n      <td>Joseph Conrad, A. Michael Matin</td>\n      <td>1899.0</td>\n      <td>NaN</td>\n      <td>...</td>\n      <td>18873</td>\n      <td>19392</td>\n      <td>192</td>\n      <td>1061</td>\n      <td>1793</td>\n      <td>4477</td>\n      <td>5759</td>\n      <td>6302</td>\n      <td>https://images.gr-assets.com/books/1328851164m...</td>\n      <td>https://images.gr-assets.com/books/1328851164s...</td>\n    </tr>\n    <tr>\n      <th>6767</th>\n      <td>6768</td>\n      <td>616828</td>\n      <td>616828</td>\n      <td>1785260</td>\n      <td>64</td>\n      <td>451526570</td>\n      <td>9.780452e+12</td>\n      <td>Joseph Conrad</td>\n      <td>1910.0</td>\n      <td>Heart of Darkness</td>\n      <td>...</td>\n      <td>13649</td>\n      <td>15143</td>\n      <td>739</td>\n      <td>1110</td>\n      <td>1867</td>\n      <td>4127</td>\n      <td>4552</td>\n      <td>3487</td>\n      <td>https://s.gr-assets.com/assets/nophoto/book/11...</td>\n      <td>https://s.gr-assets.com/assets/nophoto/book/50...</td>\n    </tr>\n  </tbody>\n</table>\n<p>9 rows × 23 columns</p>\n</div>"
     },
     "metadata": {},
     "execution_count": 16
    }
   ],
   "source": [
    "# Давайте попробуем написать рекомендации к какой-нибудь книге. Например, к роману «1984» Джорджа Оруэлла.\n",
    "# Видим, что у книги id — 846.\n",
    "books[books.original_title.str.find('1984')>=0].head(2)\n",
    "\n",
    "# Ищем похожие книги.\n",
    "nbm = nearest_books_nms(846,nms_idx)[0]\n",
    "\n",
    "# Выводим похожие книги.\n",
    "books[books.book_id.isin(nbm)]"
   ]
  },
  {
   "cell_type": "code",
   "execution_count": 34,
   "metadata": {},
   "outputs": [
    {
     "output_type": "execute_result",
     "data": {
      "text/plain": "208     The Silence of the Lambs\n273                The Godfather\n430                   Red Dragon\n767               Shutter Island\n1484            The Black Dahlia\n1801                    Hannibal\n4421             Hannibal Rising\n5312               A Simple Plan\n9792        Strangers on a Train\nName: original_title, dtype: object"
     },
     "metadata": {},
     "execution_count": 34
    }
   ],
   "source": [
    "book_id = books[books.original_title.str.find('The Silence of the Lambs')>=0].head(1).book_id.values[0]\n",
    "nbm = nearest_books_nms(book_id,nms_idx)[0]\n",
    "books[books.book_id.isin(nbm)].original_title"
   ]
  }
 ],
 "metadata": {
  "language_info": {
   "codemirror_mode": {
    "name": "ipython",
    "version": 3
   },
   "file_extension": ".py",
   "mimetype": "text/x-python",
   "name": "python",
   "nbconvert_exporter": "python",
   "pygments_lexer": "ipython3",
   "version": "3.7.7-final"
  },
  "orig_nbformat": 2,
  "kernelspec": {
   "name": "python37764bitrecsyscondad40a65bc81b14689af091162ec93074f",
   "display_name": "Python 3.7.7 64-bit ('recsys': conda)"
  }
 },
 "nbformat": 4,
 "nbformat_minor": 2
}